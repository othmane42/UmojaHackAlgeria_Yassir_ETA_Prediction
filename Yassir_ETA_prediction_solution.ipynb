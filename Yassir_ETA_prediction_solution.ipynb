{
 "cells": [
  {
   "cell_type": "code",
   "execution_count": null,
   "metadata": {
    "colab": {
     "base_uri": "https://localhost:8080/",
     "height": 71
    },
    "colab_type": "code",
    "id": "KrGn7nFRNEuv",
    "outputId": "69cc38a0-7e73-425b-b268-de6933757e21"
   },
   "outputs": [
    {
     "name": "stderr",
     "output_type": "stream",
     "text": [
      "/usr/local/lib/python3.6/dist-packages/statsmodels/tools/_testing.py:19: FutureWarning: pandas.util.testing is deprecated. Use the functions in the public API at pandas.testing instead.\n",
      "  import pandas.util.testing as tm\n"
     ]
    }
   ],
   "source": [
    "import pandas as pd\n",
    "import numpy as np\n",
    "import pylab as plt\n",
    "from sklearn import metrics\n",
    "from sklearn import cluster\n",
    "from sklearn import model_selection\n",
    "from sklearn.preprocessing import StandardScaler, PowerTransformer\n",
    "from sklearn.compose import TransformedTargetRegressor\n",
    "from sklearn import pipeline \n",
    "from sklearn.compose import ColumnTransformer\n",
    "from datetime import datetime as dt , time , date\n",
    "import datetime\n",
    "import seaborn as sns\n",
    "from dateutil.parser import parse\n",
    "import scipy.stats as stats\n",
    "from sklearn.cluster import KMeans , MiniBatchKMeans\n",
    "\n",
    "import lightgbm as lgb\n",
    "%matplotlib inline\n",
    "\n",
    "SEED = 70"
   ]
  },
  {
   "cell_type": "markdown",
   "metadata": {
    "colab_type": "text",
    "id": "mLsLLmI1NEu7"
   },
   "source": [
    "# Load data"
   ]
  },
  {
   "cell_type": "code",
   "execution_count": null,
   "metadata": {
    "colab": {
     "base_uri": "https://localhost:8080/",
     "height": 122
    },
    "colab_type": "code",
    "id": "NdDdJBY4NKQj",
    "outputId": "0c6c2051-7df5-42fa-b93e-0db5ebf21f14"
   },
   "outputs": [
    {
     "name": "stdout",
     "output_type": "stream",
     "text": [
      "Go to this URL in a browser: https://accounts.google.com/o/oauth2/auth?client_id=947318989803-6bn6qk8qdgf4n4g3pfee6491hc0brc4i.apps.googleusercontent.com&redirect_uri=urn%3aietf%3awg%3aoauth%3a2.0%3aoob&response_type=code&scope=email%20https%3a%2f%2fwww.googleapis.com%2fauth%2fdocs.test%20https%3a%2f%2fwww.googleapis.com%2fauth%2fdrive%20https%3a%2f%2fwww.googleapis.com%2fauth%2fdrive.photos.readonly%20https%3a%2f%2fwww.googleapis.com%2fauth%2fpeopleapi.readonly\n",
      "\n",
      "Enter your authorization code:\n",
      "··········\n",
      "Mounted at /content/drive\n"
     ]
    }
   ],
   "source": [
    "from google.colab import drive\n",
    "drive.mount('/content/drive')"
   ]
  },
  {
   "cell_type": "code",
   "execution_count": null,
   "metadata": {
    "colab": {
     "base_uri": "https://localhost:8080/",
     "height": 119
    },
    "colab_type": "code",
    "id": "1OZ2XY8ANIls",
    "outputId": "6dc0afaa-552d-417b-96fb-1d94aaf22735"
   },
   "outputs": [
    {
     "name": "stdout",
     "output_type": "stream",
     "text": [
      "Archive:  ./drive/My Drive/UmojaHackYassir.zip\n",
      "   creating: UmojaHack25July/\n",
      "  inflating: UmojaHack25July/Test.csv  \n",
      "  inflating: UmojaHack25July/Weather.csv  \n",
      "  inflating: UmojaHack25July/Train.csv  \n",
      "  inflating: UmojaHack25July/SampleSubmission.csv  \n"
     ]
    }
   ],
   "source": [
    "!unzip -P trrfd \"./drive/My Drive/UmojaHackYassir.zip\""
   ]
  },
  {
   "cell_type": "code",
   "execution_count": null,
   "metadata": {
    "colab": {
     "base_uri": "https://localhost:8080/",
     "height": 235
    },
    "colab_type": "code",
    "id": "7B7mMjyINEu7",
    "outputId": "cf20ac14-305c-4925-cf2d-dfe30a0d2e73"
   },
   "outputs": [],
   "source": [
    "# load training\n",
    "training = pd.read_csv('UmojaHack25July/Train.csv').set_index('ID')\n",
    "training['Timestamp'] = pd.to_datetime(training['Timestamp'])\n",
    "# testing data\n",
    "testing = pd.read_csv('UmojaHack25July/Test.csv').set_index('ID')\n",
    "testing['Timestamp'] = pd.to_datetime(testing['Timestamp'])\n",
    "# weather data\n",
    "weather_df = pd.read_csv('UmojaHack25July/Weather.csv')\n",
    "weather_df['date'] = pd.to_datetime(weather_df['date'])\n",
    "\n"
   ]
  },
  {
   "cell_type": "markdown",
   "metadata": {
    "colab_type": "text",
    "id": "GiRa3Ez0Ka7h"
   },
   "source": [
    "# Adding datetime features"
   ]
  },
  {
   "cell_type": "code",
   "execution_count": null,
   "metadata": {
    "colab": {},
    "colab_type": "code",
    "id": "W5oT-R8IQn9P"
   },
   "outputs": [],
   "source": [
    "def add_date_features(df,timestamp_id):\n",
    "\n",
    "    df.loc[:, 'pickup_weekday'] = df[timestamp_id].dt.weekday\n",
    "    df.loc[:, 'pickup_hour_weekofyear'] = df[timestamp_id].dt.weekofyear\n",
    "    df.loc[:, 'pickup_hour'] = df[timestamp_id].dt.hour\n",
    "    df.loc[:, 'pickup_minute'] = df[timestamp_id].dt.minute\n",
    "    df.loc[:, 'pickup_dt'] = (df[timestamp_id] - df[timestamp_id].min()).dt.total_seconds()\n",
    "    df.loc[:, 'pickup_week_hour'] = df['pickup_weekday'] * 24 + df['pickup_hour']\n",
    "    def get_season(now):\n",
    "        Y=2000\n",
    "        seasons = [(1, (date(Y,  1,  1),  date(Y,  3, 20))),\n",
    "                (2, (date(Y,  3, 21),  date(Y,  6, 20))),\n",
    "                (3, (date(Y,  6, 21),  date(Y,  9, 22))),\n",
    "                (4, (date(Y,  9, 23),  date(Y, 12, 20))),\n",
    "                (1, (date(Y, 12, 21),  date(Y, 12, 31)))]\n",
    "\n",
    "        if isinstance(now, datetime.datetime):\n",
    "            now = now.date()\n",
    "        now = now.replace(year=Y)\n",
    "        return next(season for season, (start, end) in seasons\n",
    "                    if start <= now <= end)\n",
    "    \n",
    "    \n",
    "    df['day_of_week']=df[timestamp_id].dt.dayofweek\n",
    "    df['day_of_week']= df['day_of_week'].astype('category') \n",
    "\n",
    "    df['is_month_end']=df[timestamp_id].dt.is_month_end  \n",
    "    df['is_month_end']= df['is_month_end'].astype('category')\n",
    "    df['is_month_start']=df[timestamp_id].dt.is_month_start\n",
    "    df['is_month_start']= df['is_month_start'].astype('category')\n",
    "    df['day_of_year']=df[timestamp_id].dt.dayofyear\n",
    "    df['day_of_year']= df['day_of_year'].astype('category')\n",
    "\n",
    "    df['is_quarter_end']=df[timestamp_id].dt.is_quarter_end\n",
    "    df['is_quarter_end']= df['is_quarter_end'].astype('category')\n",
    "    df['is_quarter_start']=df[timestamp_id].dt.is_quarter_start\n",
    "    df['is_quarter_start']= df['is_quarter_start'].astype('category')\n",
    "    df['season']=df[timestamp_id].apply(get_season)    \n",
    "    df['season']= df['season'].astype('category')"
   ]
  },
  {
   "cell_type": "code",
   "execution_count": null,
   "metadata": {
    "colab": {},
    "colab_type": "code",
    "id": "P6Za9CAdQvZZ"
   },
   "outputs": [],
   "source": [
    "#mergin test and train data to process them together (adding features ...etc)\n",
    "testing['test']=True\n",
    "training['test']=False\n",
    "\n",
    "data=training.append(testing)\n",
    "\n",
    "#adding date features\n",
    "add_date_features(data,'Timestamp')"
   ]
  },
  {
   "cell_type": "code",
   "execution_count": null,
   "metadata": {
    "colab": {},
    "colab_type": "code",
    "id": "36wP47rJ2-j6"
   },
   "outputs": [],
   "source": []
  },
  {
   "cell_type": "markdown",
   "metadata": {
    "colab_type": "text",
    "id": "yO69eFwwiX6x"
   },
   "source": [
    "# Cleaning eta and distance "
   ]
  },
  {
   "cell_type": "markdown",
   "metadata": {
    "colab_type": "text",
    "id": "Tkhex0PV2RcB"
   },
   "source": [
    "the dataset contained some anomalies that needed to be removed , this code summarizes the steps token to clean it"
   ]
  },
  {
   "cell_type": "code",
   "execution_count": null,
   "metadata": {
    "colab": {},
    "colab_type": "code",
    "id": "kzzCCnMHVUvx"
   },
   "outputs": [],
   "source": [
    "#creating speed feature to clean our dataset\n",
    "data[\"speed\"]=data.apply(lambda x : (x[\"Trip_distance\"] / x['ETA'] )* (3.6) if x['test']==False else None,axis=\"columns\")  "
   ]
  },
  {
   "cell_type": "code",
   "execution_count": null,
   "metadata": {
    "colab": {},
    "colab_type": "code",
    "id": "KND3I2i0dqbY"
   },
   "outputs": [],
   "source": [
    "#dropping anomalies in the train data (which is why i added 'data.test==False' condition)\n",
    "\n",
    "filter  = (data.test==False) & ( (data.ETA<10 )  |  (data.speed>120)  | ( data.Trip_distance<1 | ( (data.Trip_distance<1 )  & (data.ETA < 60) )   ) )\n",
    "\n",
    "\n",
    "cleaned = data.drop(data[filter].index)\n",
    "\n"
   ]
  },
  {
   "cell_type": "markdown",
   "metadata": {
    "colab_type": "text",
    "id": "42lk9n79uqz2"
   },
   "source": [
    "# Clustering and gps processing"
   ]
  },
  {
   "cell_type": "markdown",
   "metadata": {
    "colab_type": "text",
    "id": "FoP_JYIB3xXJ"
   },
   "source": [
    "in order to add more context to our gps coordinates I produced two kind of clustering; trip clustering and pickup , dropoff clustering  "
   ]
  },
  {
   "cell_type": "code",
   "execution_count": null,
   "metadata": {
    "colab": {},
    "colab_type": "code",
    "id": "3GbxKkMdgVtX"
   },
   "outputs": [],
   "source": []
  },
  {
   "cell_type": "code",
   "execution_count": null,
   "metadata": {
    "colab": {},
    "colab_type": "code",
    "id": "ZmANE7_y5l4-"
   },
   "outputs": [],
   "source": [
    "#trip clustering\n",
    " \n",
    "kmean=KMeans(n_clusters=10,random_state=SEED)\n",
    "\n",
    "coords = cleaned[['Origin_lat'\t,'Origin_lon'\t,'Destination_lat'\t,'Destination_lon']]\n",
    "\n",
    "cleaned[\"cluster_id\"]=kmean.fit_predict(coords)\n",
    "cleaned[\"cluster_id\"]=cleaned[\"cluster_id\"].astype('category')"
   ]
  },
  {
   "cell_type": "code",
   "execution_count": null,
   "metadata": {
    "colab": {},
    "colab_type": "code",
    "id": "O5tsI4ISWUtE"
   },
   "outputs": [],
   "source": [
    "#pickup and dropoff clustering separately \n",
    "minikmean=MiniBatchKMeans(n_clusters=12,batch_size=1000,random_state=SEED)\n",
    "\n",
    "cl_pickup = minikmean.fit_predict(cleaned[['Origin_lat'\t,'Origin_lon']])\n",
    "cl_dropoff = minikmean.fit_predict(cleaned[['Destination_lat'\t,'Destination_lon']])\n",
    "\n",
    "cleaned[\"cluster_Dest\"] = cl_dropoff\n",
    "cleaned[\"cluster_Orig\"] = cl_pickup\n",
    "\n",
    "cleaned[\"cluster_Dest\"]=cleaned[\"cluster_Dest\"].astype('category')\n",
    "cleaned[\"cluster_Orig\"]=cleaned[\"cluster_Orig\"].astype('category')"
   ]
  },
  {
   "cell_type": "markdown",
   "metadata": {
    "colab_type": "text",
    "id": "DPkYdAqnK9kg"
   },
   "source": [
    "# PCA for gps coordinates"
   ]
  },
  {
   "cell_type": "markdown",
   "metadata": {
    "colab_type": "text",
    "id": "TEZBpvNV4k3g"
   },
   "source": [
    "here i tried to apply pca to see the impact on the predictive model ,I was inspired by this [kernel](https://www.kaggle.com/gaborfodor/from-eda-to-the-top-lb-0-367)"
   ]
  },
  {
   "cell_type": "code",
   "execution_count": null,
   "metadata": {
    "colab": {},
    "colab_type": "code",
    "id": "wi9Abcr7Kj4V"
   },
   "outputs": [],
   "source": [
    "from sklearn.decomposition import PCA\n",
    "coords =np.vstack((cleaned[['Origin_lat'\t,'Origin_lon']], \n",
    "                        cleaned[['Destination_lat'\t,'Destination_lon']])) \n",
    "\n",
    "pca = PCA(random_state=SEED).fit(coords) # define 2 main axis\n",
    "\n",
    "\n",
    "cleaned['Origin_pca0'] = pca.transform(cleaned[['Origin_lon', 'Origin_lat']])[:,0]\n",
    "cleaned['Origin_pca1'] = pca.transform(cleaned[['Origin_lon', 'Origin_lat']])[:,1]\n",
    "cleaned['Destination_pca0'] = pca.transform(cleaned[['Destination_lon', 'Destination_lat']])[:,0]\n",
    "cleaned['Destination_pca1'] = pca.transform(cleaned[['Destination_lon', 'Destination_lat']])[:,1]\n",
    "cleaned['distance_pca0'] = np.abs(cleaned.Origin_pca0-cleaned.Destination_pca0)\n",
    "cleaned['distance_pca1'] = np.abs(cleaned.Origin_pca1-cleaned.Destination_pca1)"
   ]
  },
  {
   "cell_type": "markdown",
   "metadata": {
    "colab_type": "text",
    "id": "mLVQQKrM8tlu"
   },
   "source": [
    "# Adding weather"
   ]
  },
  {
   "cell_type": "markdown",
   "metadata": {
    "colab_type": "text",
    "id": "WOGjurM0LHos"
   },
   "source": [
    "first we need to fill missing values for December 31th 2019 , we will need it later in the test set since it contains trips on that date "
   ]
  },
  {
   "cell_type": "code",
   "execution_count": null,
   "metadata": {
    "colab": {},
    "colab_type": "code",
    "id": "ezxtuulxKvKd"
   },
   "outputs": [],
   "source": [
    "#I opted for the simplest solution by simply imputing missing values by averaging values from the previous 2 months\n",
    "res=weather_df.mean()\n",
    "\n",
    "res[\"date\"]=parse(\"2019-12-31\")\n",
    "\n",
    "# add the new row to our weather dataframe\n",
    "weather_df=weather_df.append(res,ignore_index=True)\n",
    "\n",
    "#merging data weather\n",
    "cleaned['date'] = cleaned.Timestamp.dt.date\n",
    "cleaned['date'] = pd.to_datetime(cleaned['date'])\n",
    "\n",
    "cleaned=cleaned.reset_index().merge(weather_df,how=\"left\",on=\"date\").set_index('ID')\n"
   ]
  },
  {
   "cell_type": "code",
   "execution_count": null,
   "metadata": {
    "colab": {},
    "colab_type": "code",
    "id": "_89PcdVF9ObZ"
   },
   "outputs": [],
   "source": [
    "#create a boolean field is_rainy , == True  if the precipitation measure is different than zero \n",
    "cleaned[\"is_rainy\"]=cleaned['total_precipitation'].apply(lambda x : True if (x>0.0 or x<0.0) else False  )\n",
    "cleaned[\"is_rainy\"]=cleaned[\"is_rainy\"].astype('category')"
   ]
  },
  {
   "cell_type": "markdown",
   "metadata": {
    "colab_type": "text",
    "id": "v4DUYLtUihg-"
   },
   "source": [
    "# Target analysis"
   ]
  },
  {
   "cell_type": "markdown",
   "metadata": {
    "colab_type": "text",
    "id": "-inFdniRLolr"
   },
   "source": [
    "before transformation"
   ]
  },
  {
   "cell_type": "code",
   "execution_count": null,
   "metadata": {
    "colab": {
     "base_uri": "https://localhost:8080/",
     "height": 296
    },
    "colab_type": "code",
    "id": "fikxMJyOiuno",
    "outputId": "de251bc7-c543-4a4f-fe98-b9e2629b9e07"
   },
   "outputs": [
    {
     "name": "stdout",
     "output_type": "stream",
     "text": [
      "skewness :  0.6951987747990275\n"
     ]
    },
    {
     "data": {
      "image/png": "[encoded data removed]",
      "text/plain": [
       "<Figure size 432x288 with 1 Axes>"
      ]
     },
     "metadata": {
      "needs_background": "light",
      "tags": []
     },
     "output_type": "display_data"
    }
   ],
   "source": [
    "target = cleaned[cleaned.test==False][\"ETA\"]\n",
    "sns.distplot(target)\n",
    "print(\"skewness : \",stats.skew(target.values))"
   ]
  },
  {
   "cell_type": "markdown",
   "metadata": {
    "colab_type": "text",
    "id": "b3jJM-OL6okF"
   },
   "source": [
    "we can see that the target ETA is positively skewed and don't follow a normal distribution , let's try the boxcox transform to fix that\n",
    "\n",
    "<h2>Box-Cox transformation</h2>\n",
    "\n",
    "Box-cox transform belongs to the family of power transformation techniques, which are useful to stabilize variance and make the data more gaussian-like distribution. Box-Cox transform are most common since it allows you to try various exponens and choose the best $\\lambda$ value  instead of picking one manually.\n",
    "\n",
    "$$\n",
    "y_i^{(\\lambda)} =\n",
    "\\begin{cases}\n",
    " \\dfrac{y_i^\\lambda - 1}{\\lambda} & \\text{if } \\lambda \\neq 0, \\\\\n",
    " \\ln y_i & \\text{if } \\lambda = 0,\n",
    "\\end{cases}\n",
    "$$\n",
    "\n",
    "to know more about Transforming Variables techniques , read the following <a href=\"https://heartbeat.fritz.ai/hands-on-with-feature-engineering-techniques-transforming-variables-acea03472e24\" >medium article</a>\n"
   ]
  },
  {
   "cell_type": "code",
   "execution_count": null,
   "metadata": {
    "ExecuteTime": {
     "end_time": "2020-10-23T20:53:46.301730Z",
     "start_time": "2020-10-23T20:53:41.956039Z"
    },
    "colab": {},
    "colab_type": "code",
    "id": "a3gWyYkMjDdk"
   },
   "outputs": [],
   "source": [
    "from sklearn.preprocessing import PowerTransformer\n",
    "boxcox_transformer = PowerTransformer(method='box-cox', standardize=False)"
   ]
  },
  {
   "cell_type": "code",
   "execution_count": null,
   "metadata": {
    "colab": {
     "base_uri": "https://localhost:8080/",
     "height": 282
    },
    "colab_type": "code",
    "id": "B40e8aSGijSr",
    "outputId": "f9500e6f-5f84-47bf-9b1b-e83a6448c4af"
   },
   "outputs": [
    {
     "name": "stdout",
     "output_type": "stream",
     "text": [
      "skewness :  [-0.00496359]\n"
     ]
    },
    {
     "data": {
      "image/png": "[encoded data removed]",
      "text/plain": [
       "<Figure size 432x288 with 1 Axes>"
      ]
     },
     "metadata": {
      "needs_background": "light",
      "tags": []
     },
     "output_type": "display_data"
    }
   ],
   "source": [
    "target = cleaned[cleaned.test==False][\"ETA\"]\n",
    "\n",
    "target=boxcox_transformer.fit_transform(target.values.reshape(-1,1))\n",
    "\n",
    "sns.distplot(target)\n",
    "print(\"skewness : \",stats.skew(target))"
   ]
  },
  {
   "cell_type": "markdown",
   "metadata": {
    "colab_type": "text",
    "id": "-AXCWs7a6537"
   },
   "source": [
    "the curve now is way less skewed than the origin"
   ]
  },
  {
   "cell_type": "markdown",
   "metadata": {
    "colab_type": "text",
    "id": "yzH-i6ugjnDG"
   },
   "source": [
    "# Training"
   ]
  },
  {
   "cell_type": "code",
   "execution_count": null,
   "metadata": {
    "colab": {},
    "colab_type": "code",
    "id": "bns4_6T5juM9"
   },
   "outputs": [],
   "source": []
  },
  {
   "cell_type": "code",
   "execution_count": null,
   "metadata": {
    "colab": {},
    "colab_type": "code",
    "id": "MXU_6-wzkovk"
   },
   "outputs": [],
   "source": [
    "import math\n",
    "#creating rmse adapted to our transformation\n",
    "def rmse_boxcox(y_hat, data):\n",
    "\n",
    "    y_true = data.get_label()\n",
    "    y_true = boxcox_transformer.inverse_transform(y_true.reshape(-1,1))\n",
    "    y_hat =  boxcox_transformer.inverse_transform(y_hat.reshape(-1,1))\n",
    "\n",
    "    return 'rmse_boxcox', math.sqrt(metrics.mean_squared_error(y_true,y_hat)) , False"
   ]
  },
  {
   "cell_type": "code",
   "execution_count": null,
   "metadata": {
    "colab": {},
    "colab_type": "code",
    "id": "gPPpRuTogWlB"
   },
   "outputs": [],
   "source": [
    "\n",
    "drop_cols=[\"ETA\",'Timestamp',\"speed\",\"date\",'test']"
   ]
  },
  {
   "cell_type": "code",
   "execution_count": null,
   "metadata": {
    "colab": {
     "base_uri": "https://localhost:8080/",
     "height": 71
    },
    "colab_type": "code",
    "id": "ByrXYiJilKr-",
    "outputId": "f307eff5-b0d1-4b82-fba7-b1ad7920a5f1"
   },
   "outputs": [
    {
     "name": "stderr",
     "output_type": "stream",
     "text": [
      "/usr/local/lib/python3.6/dist-packages/lightgbm/engine.py:430: UserWarning: Found `n_estimators` in params. Will use it instead of argument\n",
      "  warnings.warn(\"Found `{}` in params. Will use it instead of argument\".format(alias))\n"
     ]
    }
   ],
   "source": [
    "#running cross validation on our train set using Lightgbm\n",
    "\n",
    "split = model_selection.TimeSeriesSplit(n_splits=5)\n",
    "\n",
    "training = cleaned[cleaned.test==False]\n",
    "\n",
    "X_train  = training.drop(drop_cols,axis=1)\n",
    "\n",
    "Y_train = target.squeeze()\n",
    "\n",
    "train_set=lgb.Dataset(X_train,Y_train)\n",
    "\n",
    "params={\"objective\":\"regression\",\n",
    "      'n_estimators':5000} \n",
    "\n",
    "eval_hist=lgb.cv(params=params,feval=rmse_boxcox,train_set=train_set,folds=split,\n",
    "                 early_stopping_rounds=50,seed=SEED)"
   ]
  },
  {
   "cell_type": "code",
   "execution_count": null,
   "metadata": {
    "colab": {
     "base_uri": "https://localhost:8080/",
     "height": 204
    },
    "colab_type": "code",
    "id": "LN83ovz6whaP",
    "outputId": "c434687d-8937-4dce-ad7f-6aeacb84d929"
   },
   "outputs": [
    {
     "data": {
      "text/html": [
       "<div>\n",
       "<style scoped>\n",
       "    .dataframe tbody tr th:only-of-type {\n",
       "        vertical-align: middle;\n",
       "    }\n",
       "\n",
       "    .dataframe tbody tr th {\n",
       "        vertical-align: top;\n",
       "    }\n",
       "\n",
       "    .dataframe thead th {\n",
       "        text-align: right;\n",
       "    }\n",
       "</style>\n",
       "<table border=\"1\" class=\"dataframe\">\n",
       "  <thead>\n",
       "    <tr style=\"text-align: right;\">\n",
       "      <th></th>\n",
       "      <th>l2-mean</th>\n",
       "      <th>l2-stdv</th>\n",
       "      <th>rmse_boxcox-mean</th>\n",
       "      <th>rmse_boxcox-stdv</th>\n",
       "    </tr>\n",
       "  </thead>\n",
       "  <tbody>\n",
       "    <tr>\n",
       "      <th>2859</th>\n",
       "      <td>40.743005</td>\n",
       "      <td>7.716742</td>\n",
       "      <td>129.249012</td>\n",
       "      <td>11.730222</td>\n",
       "    </tr>\n",
       "    <tr>\n",
       "      <th>2860</th>\n",
       "      <td>40.742467</td>\n",
       "      <td>7.717300</td>\n",
       "      <td>129.248433</td>\n",
       "      <td>11.730949</td>\n",
       "    </tr>\n",
       "    <tr>\n",
       "      <th>2861</th>\n",
       "      <td>40.742209</td>\n",
       "      <td>7.717224</td>\n",
       "      <td>129.249201</td>\n",
       "      <td>11.730250</td>\n",
       "    </tr>\n",
       "    <tr>\n",
       "      <th>2862</th>\n",
       "      <td>40.741468</td>\n",
       "      <td>7.717009</td>\n",
       "      <td>129.247910</td>\n",
       "      <td>11.730040</td>\n",
       "    </tr>\n",
       "    <tr>\n",
       "      <th>2863</th>\n",
       "      <td>40.741518</td>\n",
       "      <td>7.717638</td>\n",
       "      <td>129.247882</td>\n",
       "      <td>11.730862</td>\n",
       "    </tr>\n",
       "  </tbody>\n",
       "</table>\n",
       "</div>"
      ],
      "text/plain": [
       "        l2-mean   l2-stdv  rmse_boxcox-mean  rmse_boxcox-stdv\n",
       "2859  40.743005  7.716742        129.249012         11.730222\n",
       "2860  40.742467  7.717300        129.248433         11.730949\n",
       "2861  40.742209  7.717224        129.249201         11.730250\n",
       "2862  40.741468  7.717009        129.247910         11.730040\n",
       "2863  40.741518  7.717638        129.247882         11.730862"
      ]
     },
     "execution_count": 25,
     "metadata": {
      "tags": []
     },
     "output_type": "execute_result"
    }
   ],
   "source": [
    "pd.DataFrame(eval_hist).tail()"
   ]
  },
  {
   "cell_type": "markdown",
   "metadata": {
    "colab_type": "text",
    "id": "IZ1Fa1M179KW"
   },
   "source": [
    "from the table above , the index represent : num_tress - 1 , we will pick up that value since it performed well on our cv  \n",
    "in our case , it's 2864"
   ]
  },
  {
   "cell_type": "code",
   "execution_count": null,
   "metadata": {
    "colab": {
     "base_uri": "https://localhost:8080/",
     "height": 119
    },
    "colab_type": "code",
    "id": "hlXsdc59p4DP",
    "outputId": "bcce19a3-c5a7-4f68-a29e-489ddece2c4b"
   },
   "outputs": [
    {
     "data": {
      "text/plain": [
       "LGBMRegressor(boosting_type='gbdt', class_weight=None, colsample_bytree=1.0,\n",
       "              importance_type='split', learning_rate=0.1, max_depth=-1,\n",
       "              min_child_samples=20, min_child_weight=0.001, min_split_gain=0.0,\n",
       "              n_estimators=2864, n_jobs=-1, num_leaves=31, objective=None,\n",
       "              random_state=70, reg_alpha=0.0, reg_lambda=0.0, silent=True,\n",
       "              subsample=1.0, subsample_for_bin=200000, subsample_freq=0)"
      ]
     },
     "execution_count": 27,
     "metadata": {
      "tags": []
     },
     "output_type": "execute_result"
    }
   ],
   "source": [
    "#training our final model \n",
    "model=lgb.LGBMRegressor(n_estimators=2864,random_state=SEED)\n",
    "\n",
    "model.fit(X_train,Y_train)"
   ]
  },
  {
   "cell_type": "code",
   "execution_count": null,
   "metadata": {
    "colab": {
     "base_uri": "https://localhost:8080/",
     "height": 837
    },
    "colab_type": "code",
    "id": "0t_jKb3hJnop",
    "outputId": "ea7c61d9-1ab3-49ba-b921-f184e6db2dfc"
   },
   "outputs": [
    {
     "data": {
      "text/plain": [
       "<matplotlib.axes._subplots.AxesSubplot at 0x7fa8a5213048>"
      ]
     },
     "execution_count": 254,
     "metadata": {
      "tags": []
     },
     "output_type": "execute_result"
    },
    {
     "data": {
      "image/png": "[encoded data removed]",
      "text/plain": [
       "<Figure size 1080x1080 with 1 Axes>"
      ]
     },
     "metadata": {
      "needs_background": "light",
      "tags": []
     },
     "output_type": "display_data"
    }
   ],
   "source": [
    "lgb.plot_importance(model,figsize=(15,15))"
   ]
  },
  {
   "cell_type": "markdown",
   "metadata": {
    "colab_type": "text",
    "id": "fJ4SbqJnyqav"
   },
   "source": [
    "# submission\n"
   ]
  },
  {
   "cell_type": "code",
   "execution_count": null,
   "metadata": {
    "colab": {
     "base_uri": "https://localhost:8080/",
     "height": 224
    },
    "colab_type": "code",
    "id": "9Gq6ZBFPq2wY",
    "outputId": "5d145bcd-22a3-4752-db54-7c308eda81d7"
   },
   "outputs": [
    {
     "name": "stderr",
     "output_type": "stream",
     "text": [
      "/usr/local/lib/python3.6/dist-packages/pandas/core/frame.py:3997: SettingWithCopyWarning: \n",
      "A value is trying to be set on a copy of a slice from a DataFrame\n",
      "\n",
      "See the caveats in the documentation: https://pandas.pydata.org/pandas-docs/stable/user_guide/indexing.html#returning-a-view-versus-a-copy\n",
      "  errors=errors,\n",
      "/usr/local/lib/python3.6/dist-packages/ipykernel_launcher.py:5: SettingWithCopyWarning: \n",
      "A value is trying to be set on a copy of a slice from a DataFrame.\n",
      "Try using .loc[row_indexer,col_indexer] = value instead\n",
      "\n",
      "See the caveats in the documentation: https://pandas.pydata.org/pandas-docs/stable/user_guide/indexing.html#returning-a-view-versus-a-copy\n",
      "  \"\"\"\n"
     ]
    }
   ],
   "source": [
    "testing = cleaned[cleaned.test==True]\n",
    "\n",
    "testing.drop(drop_cols,axis=1,inplace=True)\n",
    "\n",
    "testing[\"ETA\"]=boxcox_transformer.inverse_transform(model.predict(testing).reshape(-1,1))\n",
    "\n",
    "testing[['ETA']].to_csv('submit.csv')"
   ]
  },
  {
   "cell_type": "markdown",
   "metadata": {
    "colab_type": "text",
    "id": "8yXz7Ppfy3-0"
   },
   "source": [
    "# saving models (optional)"
   ]
  },
  {
   "cell_type": "code",
   "execution_count": null,
   "metadata": {
    "colab": {},
    "colab_type": "code",
    "id": "Br6c8vYAtMeG"
   },
   "outputs": [],
   "source": [
    "import pickle\n",
    "pkl_filename = \"./drive/My Drive/kmean.pkl\"\n",
    "with open(pkl_filename, 'wb') as file:\n",
    "    pickle.dump(kmean, file)"
   ]
  },
  {
   "cell_type": "code",
   "execution_count": null,
   "metadata": {
    "colab": {},
    "colab_type": "code",
    "id": "rwKX-Ic0tig_"
   },
   "outputs": [],
   "source": [
    "pkl_filename = \"./drive/My Drive/Minibatchkmean.pkl\"\n",
    "with open(pkl_filename, 'wb') as file:\n",
    "    pickle.dump(minikmean, file)"
   ]
  },
  {
   "cell_type": "code",
   "execution_count": null,
   "metadata": {
    "colab": {},
    "colab_type": "code",
    "id": "DH-JOD3ZuQ-C"
   },
   "outputs": [],
   "source": [
    "pkl_filename = \"./drive/My Drive/pca.pkl\"\n",
    "with open(pkl_filename, 'wb') as file:\n",
    "    pickle.dump(pca, file)"
   ]
  },
  {
   "cell_type": "code",
   "execution_count": null,
   "metadata": {
    "colab": {},
    "colab_type": "code",
    "id": "0hnYgyqeuWWy"
   },
   "outputs": [],
   "source": [
    "pkl_filename = \"./drive/My Drive/lgbRegressor.pkl\"\n",
    "with open(pkl_filename, 'wb') as file:\n",
    "    pickle.dump(model, file)"
   ]
  }
 ],
 "metadata": {
  "colab": {
   "collapsed_sections": [],
   "name": "Copie de StarterNotebook___19_41.ipynb",
   "provenance": [],
   "toc_visible": true
  },
  "kernelspec": {
   "display_name": "Python 3",
   "language": "python",
   "name": "python3"
  },
  "language_info": {
   "codemirror_mode": {
    "name": "ipython",
    "version": 3
   },
   "file_extension": ".py",
   "mimetype": "text/x-python",
   "name": "python",
   "nbconvert_exporter": "python",
   "pygments_lexer": "ipython3",
   "version": "3.7.0"
  },
  "toc": {
   "base_numbering": 1,
   "nav_menu": {},
   "number_sections": true,
   "sideBar": true,
   "skip_h1_title": false,
   "title_cell": "Table of Contents",
   "title_sidebar": "Contents",
   "toc_cell": false,
   "toc_position": {},
   "toc_section_display": true,
   "toc_window_display": false
  },
  "varInspector": {
   "cols": {
    "lenName": 16,
    "lenType": 16,
    "lenVar": 40
   },
   "kernels_config": {
    "python": {
     "delete_cmd_postfix": "",
     "delete_cmd_prefix": "del ",
     "library": "var_list.py",
     "varRefreshCmd": "print(var_dic_list())"
    },
    "r": {
     "delete_cmd_postfix": ") ",
     "delete_cmd_prefix": "rm(",
     "library": "var_list.r",
     "varRefreshCmd": "cat(var_dic_list()) "
    }
   },
   "types_to_exclude": [
    "module",
    "function",
    "builtin_function_or_method",
    "instance",
    "_Feature"
   ],
   "window_display": false
  }
 },
 "nbformat": 4,
 "nbformat_minor": 1
}
